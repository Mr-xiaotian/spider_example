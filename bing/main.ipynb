{
 "cells": [
  {
   "cell_type": "code",
   "execution_count": 1,
   "id": "d0123a25",
   "metadata": {},
   "outputs": [
    {
     "ename": "SessionNotCreatedException",
     "evalue": "Message: session not created: probably user data directory is already in use, please specify a unique value for --user-data-dir argument, or don't use --user-data-dir\nStacktrace:\n\tGetHandleVerifier [0x00007FF7C74AEE65+16773]\n\tMicrosoft::Applications::Events::ILogConfiguration::operator* [0x00007FF7C740F130+402672]\n\tMicrosoft::Applications::Events::EventProperty::to_string [0x00007FF7C7704BDA+1818314]\n\t(No symbol) [0x00007FF7C7232609]\n\t(No symbol) [0x00007FF7C72301AF]\n\t(No symbol) [0x00007FF7C72751F5]\n\t(No symbol) [0x00007FF7C727425B]\n\t(No symbol) [0x00007FF7C7268C33]\n\t(No symbol) [0x00007FF7C723D4D6]\n\t(No symbol) [0x00007FF7C723CA82]\n\t(No symbol) [0x00007FF7C723D303]\n\t(No symbol) [0x00007FF7C733060D]\n\t(No symbol) [0x00007FF7C733D642]\n\t(No symbol) [0x00007FF7C7335673]\n\tMicrosoft::Applications::Events::EventProperty::to_string [0x00007FF7C7589BAA+265882]\n\tMicrosoft::Applications::Events::ILogConfiguration::operator* [0x00007FF7C741C581+457025]\n\tMicrosoft::Applications::Events::ILogConfiguration::operator* [0x00007FF7C7415834+429044]\n\tMicrosoft::Applications::Events::ILogConfiguration::operator* [0x00007FF7C7415983+429379]\n\tMicrosoft::Applications::Events::ILogConfiguration::operator* [0x00007FF7C7407486+370758]\n\tBaseThreadInitThunk [0x00007FF82EE0259D+29]\n\tRtlUserThreadStart [0x00007FF83070AF38+40]\n",
     "output_type": "error",
     "traceback": [
      "\u001b[1;31m---------------------------------------------------------------------------\u001b[0m",
      "\u001b[1;31mSessionNotCreatedException\u001b[0m                Traceback (most recent call last)",
      "Cell \u001b[1;32mIn[1], line 19\u001b[0m\n\u001b[0;32m     17\u001b[0m options \u001b[38;5;241m=\u001b[39m Options()\n\u001b[0;32m     18\u001b[0m options\u001b[38;5;241m.\u001b[39madd_argument(\u001b[38;5;124mf\u001b[39m\u001b[38;5;124m\"\u001b[39m\u001b[38;5;124m--user-data-dir=./profile_\u001b[39m\u001b[38;5;132;01m{\u001b[39;00m\u001b[38;5;28mint\u001b[39m(time\u001b[38;5;241m.\u001b[39mtime())\u001b[38;5;132;01m}\u001b[39;00m\u001b[38;5;124m\"\u001b[39m)\n\u001b[1;32m---> 19\u001b[0m driver \u001b[38;5;241m=\u001b[39m \u001b[43mwebdriver\u001b[49m\u001b[38;5;241;43m.\u001b[39;49m\u001b[43mEdge\u001b[49m\u001b[43m(\u001b[49m\u001b[43moptions\u001b[49m\u001b[38;5;241;43m=\u001b[39;49m\u001b[43moptions\u001b[49m\u001b[43m)\u001b[49m\n",
      "File \u001b[1;32md:\\ProgramData\\miniforge3\\lib\\site-packages\\selenium\\webdriver\\edge\\webdriver.py:45\u001b[0m, in \u001b[0;36mWebDriver.__init__\u001b[1;34m(self, options, service, keep_alive)\u001b[0m\n\u001b[0;32m     42\u001b[0m service \u001b[38;5;241m=\u001b[39m service \u001b[38;5;28;01mif\u001b[39;00m service \u001b[38;5;28;01melse\u001b[39;00m Service()\n\u001b[0;32m     43\u001b[0m options \u001b[38;5;241m=\u001b[39m options \u001b[38;5;28;01mif\u001b[39;00m options \u001b[38;5;28;01melse\u001b[39;00m Options()\n\u001b[1;32m---> 45\u001b[0m \u001b[38;5;28;43msuper\u001b[39;49m\u001b[43m(\u001b[49m\u001b[43m)\u001b[49m\u001b[38;5;241;43m.\u001b[39;49m\u001b[38;5;21;43m__init__\u001b[39;49m\u001b[43m(\u001b[49m\n\u001b[0;32m     46\u001b[0m \u001b[43m    \u001b[49m\u001b[43mbrowser_name\u001b[49m\u001b[38;5;241;43m=\u001b[39;49m\u001b[43mDesiredCapabilities\u001b[49m\u001b[38;5;241;43m.\u001b[39;49m\u001b[43mEDGE\u001b[49m\u001b[43m[\u001b[49m\u001b[38;5;124;43m\"\u001b[39;49m\u001b[38;5;124;43mbrowserName\u001b[39;49m\u001b[38;5;124;43m\"\u001b[39;49m\u001b[43m]\u001b[49m\u001b[43m,\u001b[49m\n\u001b[0;32m     47\u001b[0m \u001b[43m    \u001b[49m\u001b[43mvendor_prefix\u001b[49m\u001b[38;5;241;43m=\u001b[39;49m\u001b[38;5;124;43m\"\u001b[39;49m\u001b[38;5;124;43mms\u001b[39;49m\u001b[38;5;124;43m\"\u001b[39;49m\u001b[43m,\u001b[49m\n\u001b[0;32m     48\u001b[0m \u001b[43m    \u001b[49m\u001b[43moptions\u001b[49m\u001b[38;5;241;43m=\u001b[39;49m\u001b[43moptions\u001b[49m\u001b[43m,\u001b[49m\n\u001b[0;32m     49\u001b[0m \u001b[43m    \u001b[49m\u001b[43mservice\u001b[49m\u001b[38;5;241;43m=\u001b[39;49m\u001b[43mservice\u001b[49m\u001b[43m,\u001b[49m\n\u001b[0;32m     50\u001b[0m \u001b[43m    \u001b[49m\u001b[43mkeep_alive\u001b[49m\u001b[38;5;241;43m=\u001b[39;49m\u001b[43mkeep_alive\u001b[49m\u001b[43m,\u001b[49m\n\u001b[0;32m     51\u001b[0m \u001b[43m\u001b[49m\u001b[43m)\u001b[49m\n",
      "File \u001b[1;32md:\\ProgramData\\miniforge3\\lib\\site-packages\\selenium\\webdriver\\chromium\\webdriver.py:66\u001b[0m, in \u001b[0;36mChromiumDriver.__init__\u001b[1;34m(self, browser_name, vendor_prefix, options, service, keep_alive)\u001b[0m\n\u001b[0;32m     57\u001b[0m executor \u001b[38;5;241m=\u001b[39m ChromiumRemoteConnection(\n\u001b[0;32m     58\u001b[0m     remote_server_addr\u001b[38;5;241m=\u001b[39m\u001b[38;5;28mself\u001b[39m\u001b[38;5;241m.\u001b[39mservice\u001b[38;5;241m.\u001b[39mservice_url,\n\u001b[0;32m     59\u001b[0m     browser_name\u001b[38;5;241m=\u001b[39mbrowser_name,\n\u001b[1;32m   (...)\u001b[0m\n\u001b[0;32m     62\u001b[0m     ignore_proxy\u001b[38;5;241m=\u001b[39moptions\u001b[38;5;241m.\u001b[39m_ignore_local_proxy,\n\u001b[0;32m     63\u001b[0m )\n\u001b[0;32m     65\u001b[0m \u001b[38;5;28;01mtry\u001b[39;00m:\n\u001b[1;32m---> 66\u001b[0m     \u001b[38;5;28;43msuper\u001b[39;49m\u001b[43m(\u001b[49m\u001b[43m)\u001b[49m\u001b[38;5;241;43m.\u001b[39;49m\u001b[38;5;21;43m__init__\u001b[39;49m\u001b[43m(\u001b[49m\u001b[43mcommand_executor\u001b[49m\u001b[38;5;241;43m=\u001b[39;49m\u001b[43mexecutor\u001b[49m\u001b[43m,\u001b[49m\u001b[43m \u001b[49m\u001b[43moptions\u001b[49m\u001b[38;5;241;43m=\u001b[39;49m\u001b[43moptions\u001b[49m\u001b[43m)\u001b[49m\n\u001b[0;32m     67\u001b[0m \u001b[38;5;28;01mexcept\u001b[39;00m \u001b[38;5;167;01mException\u001b[39;00m:\n\u001b[0;32m     68\u001b[0m     \u001b[38;5;28mself\u001b[39m\u001b[38;5;241m.\u001b[39mquit()\n",
      "File \u001b[1;32md:\\ProgramData\\miniforge3\\lib\\site-packages\\selenium\\webdriver\\remote\\webdriver.py:250\u001b[0m, in \u001b[0;36mWebDriver.__init__\u001b[1;34m(self, command_executor, keep_alive, file_detector, options, locator_converter, web_element_cls, client_config)\u001b[0m\n\u001b[0;32m    248\u001b[0m \u001b[38;5;28mself\u001b[39m\u001b[38;5;241m.\u001b[39m_authenticator_id \u001b[38;5;241m=\u001b[39m \u001b[38;5;28;01mNone\u001b[39;00m\n\u001b[0;32m    249\u001b[0m \u001b[38;5;28mself\u001b[39m\u001b[38;5;241m.\u001b[39mstart_client()\n\u001b[1;32m--> 250\u001b[0m \u001b[38;5;28;43mself\u001b[39;49m\u001b[38;5;241;43m.\u001b[39;49m\u001b[43mstart_session\u001b[49m\u001b[43m(\u001b[49m\u001b[43mcapabilities\u001b[49m\u001b[43m)\u001b[49m\n\u001b[0;32m    251\u001b[0m \u001b[38;5;28mself\u001b[39m\u001b[38;5;241m.\u001b[39m_fedcm \u001b[38;5;241m=\u001b[39m FedCM(\u001b[38;5;28mself\u001b[39m)\n\u001b[0;32m    253\u001b[0m \u001b[38;5;28mself\u001b[39m\u001b[38;5;241m.\u001b[39m_websocket_connection \u001b[38;5;241m=\u001b[39m \u001b[38;5;28;01mNone\u001b[39;00m\n",
      "File \u001b[1;32md:\\ProgramData\\miniforge3\\lib\\site-packages\\selenium\\webdriver\\remote\\webdriver.py:342\u001b[0m, in \u001b[0;36mWebDriver.start_session\u001b[1;34m(self, capabilities)\u001b[0m\n\u001b[0;32m    333\u001b[0m \u001b[38;5;250m\u001b[39m\u001b[38;5;124;03m\"\"\"Creates a new session with the desired capabilities.\u001b[39;00m\n\u001b[0;32m    334\u001b[0m \n\u001b[0;32m    335\u001b[0m \u001b[38;5;124;03mParameters:\u001b[39;00m\n\u001b[1;32m   (...)\u001b[0m\n\u001b[0;32m    338\u001b[0m \u001b[38;5;124;03m    - A capabilities dict to start the session with.\u001b[39;00m\n\u001b[0;32m    339\u001b[0m \u001b[38;5;124;03m\"\"\"\u001b[39;00m\n\u001b[0;32m    341\u001b[0m caps \u001b[38;5;241m=\u001b[39m _create_caps(capabilities)\n\u001b[1;32m--> 342\u001b[0m response \u001b[38;5;241m=\u001b[39m \u001b[38;5;28;43mself\u001b[39;49m\u001b[38;5;241;43m.\u001b[39;49m\u001b[43mexecute\u001b[49m\u001b[43m(\u001b[49m\u001b[43mCommand\u001b[49m\u001b[38;5;241;43m.\u001b[39;49m\u001b[43mNEW_SESSION\u001b[49m\u001b[43m,\u001b[49m\u001b[43m \u001b[49m\u001b[43mcaps\u001b[49m\u001b[43m)\u001b[49m[\u001b[38;5;124m\"\u001b[39m\u001b[38;5;124mvalue\u001b[39m\u001b[38;5;124m\"\u001b[39m]\n\u001b[0;32m    343\u001b[0m \u001b[38;5;28mself\u001b[39m\u001b[38;5;241m.\u001b[39msession_id \u001b[38;5;241m=\u001b[39m response\u001b[38;5;241m.\u001b[39mget(\u001b[38;5;124m\"\u001b[39m\u001b[38;5;124msessionId\u001b[39m\u001b[38;5;124m\"\u001b[39m)\n\u001b[0;32m    344\u001b[0m \u001b[38;5;28mself\u001b[39m\u001b[38;5;241m.\u001b[39mcaps \u001b[38;5;241m=\u001b[39m response\u001b[38;5;241m.\u001b[39mget(\u001b[38;5;124m\"\u001b[39m\u001b[38;5;124mcapabilities\u001b[39m\u001b[38;5;124m\"\u001b[39m)\n",
      "File \u001b[1;32md:\\ProgramData\\miniforge3\\lib\\site-packages\\selenium\\webdriver\\remote\\webdriver.py:429\u001b[0m, in \u001b[0;36mWebDriver.execute\u001b[1;34m(self, driver_command, params)\u001b[0m\n\u001b[0;32m    427\u001b[0m response \u001b[38;5;241m=\u001b[39m \u001b[38;5;28mself\u001b[39m\u001b[38;5;241m.\u001b[39mcommand_executor\u001b[38;5;241m.\u001b[39mexecute(driver_command, params)\n\u001b[0;32m    428\u001b[0m \u001b[38;5;28;01mif\u001b[39;00m response:\n\u001b[1;32m--> 429\u001b[0m     \u001b[38;5;28;43mself\u001b[39;49m\u001b[38;5;241;43m.\u001b[39;49m\u001b[43merror_handler\u001b[49m\u001b[38;5;241;43m.\u001b[39;49m\u001b[43mcheck_response\u001b[49m\u001b[43m(\u001b[49m\u001b[43mresponse\u001b[49m\u001b[43m)\u001b[49m\n\u001b[0;32m    430\u001b[0m     response[\u001b[38;5;124m\"\u001b[39m\u001b[38;5;124mvalue\u001b[39m\u001b[38;5;124m\"\u001b[39m] \u001b[38;5;241m=\u001b[39m \u001b[38;5;28mself\u001b[39m\u001b[38;5;241m.\u001b[39m_unwrap_value(response\u001b[38;5;241m.\u001b[39mget(\u001b[38;5;124m\"\u001b[39m\u001b[38;5;124mvalue\u001b[39m\u001b[38;5;124m\"\u001b[39m, \u001b[38;5;28;01mNone\u001b[39;00m))\n\u001b[0;32m    431\u001b[0m     \u001b[38;5;28;01mreturn\u001b[39;00m response\n",
      "File \u001b[1;32md:\\ProgramData\\miniforge3\\lib\\site-packages\\selenium\\webdriver\\remote\\errorhandler.py:232\u001b[0m, in \u001b[0;36mErrorHandler.check_response\u001b[1;34m(self, response)\u001b[0m\n\u001b[0;32m    230\u001b[0m         alert_text \u001b[38;5;241m=\u001b[39m value[\u001b[38;5;124m\"\u001b[39m\u001b[38;5;124malert\u001b[39m\u001b[38;5;124m\"\u001b[39m]\u001b[38;5;241m.\u001b[39mget(\u001b[38;5;124m\"\u001b[39m\u001b[38;5;124mtext\u001b[39m\u001b[38;5;124m\"\u001b[39m)\n\u001b[0;32m    231\u001b[0m     \u001b[38;5;28;01mraise\u001b[39;00m exception_class(message, screen, stacktrace, alert_text)  \u001b[38;5;66;03m# type: ignore[call-arg]  # mypy is not smart enough here\u001b[39;00m\n\u001b[1;32m--> 232\u001b[0m \u001b[38;5;28;01mraise\u001b[39;00m exception_class(message, screen, stacktrace)\n",
      "\u001b[1;31mSessionNotCreatedException\u001b[0m: Message: session not created: probably user data directory is already in use, please specify a unique value for --user-data-dir argument, or don't use --user-data-dir\nStacktrace:\n\tGetHandleVerifier [0x00007FF7C74AEE65+16773]\n\tMicrosoft::Applications::Events::ILogConfiguration::operator* [0x00007FF7C740F130+402672]\n\tMicrosoft::Applications::Events::EventProperty::to_string [0x00007FF7C7704BDA+1818314]\n\t(No symbol) [0x00007FF7C7232609]\n\t(No symbol) [0x00007FF7C72301AF]\n\t(No symbol) [0x00007FF7C72751F5]\n\t(No symbol) [0x00007FF7C727425B]\n\t(No symbol) [0x00007FF7C7268C33]\n\t(No symbol) [0x00007FF7C723D4D6]\n\t(No symbol) [0x00007FF7C723CA82]\n\t(No symbol) [0x00007FF7C723D303]\n\t(No symbol) [0x00007FF7C733060D]\n\t(No symbol) [0x00007FF7C733D642]\n\t(No symbol) [0x00007FF7C7335673]\n\tMicrosoft::Applications::Events::EventProperty::to_string [0x00007FF7C7589BAA+265882]\n\tMicrosoft::Applications::Events::ILogConfiguration::operator* [0x00007FF7C741C581+457025]\n\tMicrosoft::Applications::Events::ILogConfiguration::operator* [0x00007FF7C7415834+429044]\n\tMicrosoft::Applications::Events::ILogConfiguration::operator* [0x00007FF7C7415983+429379]\n\tMicrosoft::Applications::Events::ILogConfiguration::operator* [0x00007FF7C7407486+370758]\n\tBaseThreadInitThunk [0x00007FF82EE0259D+29]\n\tRtlUserThreadStart [0x00007FF83070AF38+40]\n"
     ]
    }
   ],
   "source": [
    "import httpx, re, json\n",
    "import pandas as pd\n",
    "from tqdm import tqdm\n",
    "from bs4 import BeautifulSoup\n",
    "from lxml import etree\n",
    "from time import sleep\n",
    "from bs4 import BeautifulSoup\n",
    "from selenium import webdriver\n",
    "from selenium.webdriver.common.by import By\n",
    "from selenium.webdriver.common.keys import Keys\n",
    "from selenium.webdriver.edge.options import Options\n",
    "from selenium.webdriver.support.ui import WebDriverWait\n",
    "from selenium.webdriver.support import expected_conditions as EC\n",
    "from selenium.common.exceptions import TimeoutException, NoSuchElementException\n",
    "\n",
    "import time\n",
    "options = Options()\n",
    "options.add_argument(f\"--user-data-dir=./profile_{int(time.time())}\")\n",
    "driver = webdriver.Edge(options=options)"
   ]
  },
  {
   "cell_type": "code",
   "execution_count": 2,
   "id": "4c4a3498",
   "metadata": {},
   "outputs": [
    {
     "ename": "NameError",
     "evalue": "name 'driver' is not defined",
     "output_type": "error",
     "traceback": [
      "\u001b[1;31m---------------------------------------------------------------------------\u001b[0m",
      "\u001b[1;31mNameError\u001b[0m                                 Traceback (most recent call last)",
      "Cell \u001b[1;32mIn[2], line 1\u001b[0m\n\u001b[1;32m----> 1\u001b[0m \u001b[43mdriver\u001b[49m\u001b[38;5;241m.\u001b[39mget(\u001b[38;5;124m'\u001b[39m\u001b[38;5;124mhttps://cn.bing.com/search?q=python\u001b[39m\u001b[38;5;124m'\u001b[39m)\n",
      "\u001b[1;31mNameError\u001b[0m: name 'driver' is not defined"
     ]
    }
   ],
   "source": [
    "driver.get('https://cn.bing.com/search?q=python')"
   ]
  },
  {
   "cell_type": "code",
   "execution_count": 11,
   "id": "068a8bd8",
   "metadata": {},
   "outputs": [],
   "source": [
    "import httpx\n",
    "from bs4 import BeautifulSoup\n",
    "\n",
    "headers = {\n",
    "    \"cookie\": \"_C_ETH=1; _uetvid=e90e71b0cfb211eeaa91efb9f5082e69; _clck=ir33dz%7C2%7Cfpc%7C0%7C1524; _BINGNEWS=SW=1857&SH=959; BCP=AD=1&AL=1&SM=1; _EDGE_V=1; MUID=2143B516F4FB6BCA221AA13FF5466A61; MUIDB=2143B516F4FB6BCA221AA13FF5466A61; MSPTC=6CrQtkA9uJ4iMY0hB85WosC316_Frxck4XoIC-JPGEQ; EDGSRCHHPGUSR=CIBV=1.1816.0; _UR=QS=0&TQS=0&cdxcls=0&Pn=0; BFBUSR=CMUIDBCE=2&BAWAS=0&BAWFS=0&RW=0&BFBHP=0; _EDGE_CD=u=zh-hans; MSCCSC=1; SRCHD=AF=ANNAB1; SRCHUID=V=2&GUID=AF8274D754D643D5B280B487469AFB51&dmnchg=1; BFB=gxBtkDwVXSb6ZHa3pWTpCu0jIS2-veBHo7622FG-RbG23bPujEkBCsHo_2dHgx9SVT__ELR7GMnu5CUG50SxLz1y0aNCARFs_JpbwH5812GKH0dB91XRuB_7tGzCTxQEcvgqFiCvozEZSUMMCEb0XG-lfQPjnt4k-cnoZMPaFS8ld9tAUOntzxcHQHDWBEbb9mcOMFxgvfr-z-550IvpTXYKyiDr8emzZqxIu1REt_jKB8-3z9egSeQ33dicSuQ3L911IsWiNO1pcGztg-wDSXdK; OIDR=gxAaB3OmxXuznFi-LejSHC4ginslTtvgIfgCx96d5u8Lsr3BXN0oSAASjJQRlZ0OZOlH8UihuIE3DSQRK6Wwo4VLxaqtI8kpuxcGrhrAOez9JSWkX1jHJYPcYHqESLdmb8K0vo6ePFNJyA_SEKS2OYQsoPGlCZpuLKIEk51PaAtYsnss2YZ4b2RW5bPp5VmccP1zTAvGVHqLuz29G35dydLH5Awt8A7cjaAApaQhHCjWuO0DInkaM8N6Wcky9CMx6AC6llh-CVJBhKPs-TcClcd-igTxOyp8U3o1dA55kIogo1lGXhoUF5OIFD3eIE20HeNdHASCGw8XAp8Ehq7_5GMdATu1H3AGxhPePmnx3qGceoGJUYeOdgr7ihGN30YtbmiC8RFCNOsR_xBdj4IYooTQV7i2OY0ek-GHSIExi-MqPV3pIAvfjuNuX7UBD204F_g2D2SHq1gwcUnJVrHcj6aTS36_VKfRFj30dMS3NN13Mf5dzcYeABqlIMeKCkasT9mPm4J5GPVf3HC6uCEcD7VPnziVUKQl3_HNEoc_PRjmBY1YEM9Viu5zWFFunWGW1bR-JdzD4Cu1UJWgI8dnW7mQuKlEOfe96Zid70MQkTSeFWY6bMLQXJYYC30N5gSwYrTBQuMfrueSdcHByV5QRtKZ4qLrj-wACvH6rKguTsCI98nqDOcy6qo7HMMYb42OEKb4xjgKPdj09SGjrRlcrxasvE9JuERct0NrRCu5LkrEWBY96p1xw9P3h4tDUOsMOdLbiiiaI1h7cGQShxvna-Ov2RQ1WJszEd51E0eDPzYRdnTyRTp7dvTJ2hEv_aIBpNJ_T8HGEUZvlCC_RXQWSIwZ9XJgmwI00P-WXyjp1odLIT99dTDFwY9Ie07ojIKepmf6F38q_GglCMpQTM7_QNJfCXCXNIMCvTIC8iL_jE2wCIfFEs_Cd3tJqYS-jJWDFuDkuLCKLD-AX-af3xDNLTaNvHb3IpoNqaWT4lrq18v7R7ClmATFdcseuEqgsAW3PbI82I0pR0bBKXEnxc0bBhhQZkokcl6uMyfaOydWlJGGvb5vdloeIP_J7MZf0jw4p9WS7h8lyqb6s2TaLXd7IMr0NVbHQs7-LyxxnctGSQ7FlyCDjkF3uyIF9L1ZIAeE9dKFpBs1SMKQd_3RHQ4QfWK9uCHCekx1az7-mnnhSXQl7rhX-6dVnuTMRA9rqQY-ZXSRaE8EVxE7Wciu5hu0HYb46jFEmsIXonRi76FYtRPCoOmKcdDaK_Tdv0idCSVUxZeVkPMlqDIJPj8O9Yn3yXdIDk8uxAkhRgnxoLcwpqVoxBntYpFZJbfSAt0TM9uk2kmV_XcIZajcWcuIgonpQ6WV05DPQrybT-Gu2xrlsr5AsGxnDAzRuwyvNmCjtBepAzGmZV7LeKLlIioqDFZQ6hcL; OID=AxAyuU74Uy5Ep3K54mzeCgggm4NSCHE0-cMYhcH0JECRE03nkh53Nfz1oGbYBuCCmV78Ngm71wHBw1UInIByIxIETV5BwYjEAezJ0os0fI0f9ER4dZOAMSSHpRVixTLk5RMpyaTnzz9Ur8g42ZfLJr8B; OIDI=AxC_ZjOmH-U-qi92fQ9tBxm2pJ9wPWVBcst8fBzPpEtV3jRDZGf_tJAqzPOER59A8M6R5du1ToXW_wXqx0MPyAnf; BCBSWITCH=BCB=0; _TTSS_OUT=hist=WyJqYSIsImVuIiwiemgtSGFucyJd; _tarLang=default=zh-Hans; _TTSS_IN=hist=WyJ6aC1IYW5zIiwiZW4iLCJubCIsImF1dG8tZGV0ZWN0Il0=&isADRU=0; _Rwho=u=d&ts=2025-04-18; _EDGE_S=SID=2B35E0F3118F68272E41F53810E86903&mkt=zh-CN; ak_bmsc=CE26BA65E293B887644D7D397BCF4CB4~000000000000000000000000000000~YAAQGqwwF7hbej2WAQAA6ROVRxuah4h1CXakRkT9NWBA1M8a730KSQ1ymNqUGVCAmsbzSZyw45TwRB/MNaKJWLdbJooUsWTJj76uwLhFPdl+qpEJSDM75lj8CkM+W7DkLUsUpGFHI0H6gyehRbC66KduApi+Bu9ieSDXT/OqWWUZNt8luw9JlgbbMWVyu/4tR+UX71JXB5le7ayDzMrqyXCKGxMVbeJfvBAvz8LpFNPfl4VKijrbsrObhEbDr3avMTQyVHgtlicw1BYx5egUAT38HHVysQe9LnVghDCwxfpDEL3OxvozcxTjxxVwHgSjhIePzpi6WkCWoThoUjnzv/ZZBq0BF41tgN7xGS57muCpEdbYldUVrYlhzNjy6kpsvYMUpjZg/YnwPyqvKdsUzZcmfyni; _HPVN=CS=eyJQbiI6eyJDbiI6OCwiU3QiOjAsIlFzIjowLCJQcm9kIjoiUCJ9LCJTYyI6eyJDbiI6OCwiU3QiOjAsIlFzIjowLCJQcm9kIjoiSCJ9LCJReiI6eyJDbiI6OCwiU3QiOjAsIlFzIjowLCJQcm9kIjoiVCJ9LCJBcCI6dHJ1ZSwiTXV0ZSI6dHJ1ZSwiTGFkIjoiMjAyNS0wNC0xOFQwMDowMDowMFoiLCJJb3RkIjowLCJHd2IiOjAsIlRucyI6MCwiRGZ0IjpudWxsLCJNdnMiOjAsIkZsdCI6MCwiSW1wIjoyNywiVG9ibiI6MH0=; SNRHOP=I=&TS=; SRCHUSR=DOB=20240218&T=1740970126000&FBW=1&DS=1; BFPRResults=FirstPageUrls=4012A464519162628AD23068F2590651%2C1DBF2DC4662A3FB138B93E93E188F39C%2CF2A7E971A3E3D4EECAFCFE4326987125%2C95DABFCCDC472D779C169CF350658FF2%2CE613BFEE24DF2BD4F38BE452AC4D8DD9%2C8D908E8F19F44AFB8ADD88A37B5E4BFA%2C9AF5FE7837062BF4BBD66859C55AAFE7%2CDBE9A42819EA21842A1414C7BF9A206E%2CF9C160D56C42CAA696F0C2CEB7BA6023%2CEA70AA4C5502373B43EFE70989D7FF8D&FPIG=8309F267F2B64FD199C0695567A8E54D; GC=HJTTiKt8ADcV7f691-dOZ3PNQaNBLLm1WD2diYwsG755QqllYGJozXj2uGife2ZGBqtUmcZa4lnyyTlYu22NDQ; _RwBf=r=0&ilt=109&ihpd=0&ispd=1&rc=192&rb=0&gb=0&rg=200&pc=189&mtu=0&rbb=0&cid=&clo=0&v=1&l=2025-04-18T07:00:00.0000000Z&lft=0001-01-01T00:00:00.0000000&aof=0&ard=0001-01-01T00:00:00.0000000&rwdbt=0&rwflt=0&rwaul2=0&g=&o=2&p=&c=&t=0&s=0001-01-01T00:00:00.0000000+00:00&ts=2025-04-18T07:02:22.7559680+00:00&rwred=0&wls=&wlb=&wle=&ccp=&cpt=&lka=0&lkt=0&aad=0&TH=; _SS=PC=U531&SID=2B35E0F3118F68272E41F53810E86903&R=192&RB=0&GB=0&RG=200&RP=189; USRLOC=HS=1&ELOC=LAT=35.692440032958984|LON=139.69720458984375|N=Shinjuku-Ku%EF%BC%8C%E4%B8%9C%E4%BA%AC%E9%83%BD|ELT=9|&DLOC=LAT=35.6872|LON=139.742|A=84972|N=%e4%b8%9c%e4%ba%ac%e9%83%bd%e4%b8%80%e7%95%aa%e7%94%ba|C=|S=|TS=250418070223|ETS=250418071223|&BID=MjUwNDE4MTQ1MDU0X2E2ODdlM2UzZDk5YzIyNmFhNjA1Y2QwODg5NzZkODlkODY0NTJjZTYxMjM1ODgwMjAxOWFiYjExNmU3NzdhMWY=; SRCHHPGUSR=SRCHLANG=zh-Hans&BZA=0&DM=0&BRW=XW&BRH=S&CW=1872&CH=392&SCW=1857&SCH=1863&DPR=1.0&UTC=480&PV=15.0.0&EXLTT=31&PRVCW=1872&PRVCH=393&HV=1744959742&PR=1&WTS=63856347410&IG=123FBC8707004A8FA014B594D7F4AA2E&CIBV=1.1813.0&cdxupdttm=638584115671790908&WEBTHEME=0&THEME=0&NTWKTYP=4g&AV=14&ADV=14&RB=0&MB=0&HVE=CfDJ8GtUudZcSi1Enm88WwQKtCdb2fW34Becz5lGuI_WXyywZPcusm_9yhzgY6hFe25w3G3fk1IfQCpEvvHWqEieQrGNL56-9U35R2Tixq_CAydIzCrFiY7VDLrfC1PnSsnKzrQsY2L2kAeq1K4xtJjPqx1Nqw11GbWjafUqMJk10jy58JdaGW7FvDkCPexiCqjWOw\",\n",
    "    'user-agent': \"Mozilla/5.0 (Windows NT 10.0; Win64; x64) AppleWebKit/537.36 (KHTML, like Gecko) Chrome/135.0.0.0 Safari/537.36 Edg/135.0.0.0\",\n",
    "    'referer': 'https://www.bing.com/search?q=site%3ahighschoolfootballamerica.com&rdr=1&rdrig=B6E2191474884462A353B7E14A4E3D84&FPIG=8309F267F2B64FD199C0695567A8E54D%2cCE0F1CB80E7C49E49914142492D886E9&first=1&FORM=PERE'\n",
    "}\n",
    "\n",
    "def get_page_urls(first_index):\n",
    "    url = (\n",
    "        f'https://www.bing.com/search?q=site%3ahighschoolfootballamerica.com'\n",
    "        f'&first={first_index}'\n",
    "        f'&cvid=C1E6228CF68641D284FD84649207A359'\n",
    "        f'&FORM=PERE2'\n",
    "    )\n",
    "\n",
    "    response = httpx.get(url, headers=headers)\n",
    "    soup = BeautifulSoup(response.text, 'html.parser')\n",
    "    url_list = []\n",
    "\n",
    "    for li in soup.select('li.b_algo'):\n",
    "        a_tag = li.select_one('h2 > a')\n",
    "        if not a_tag:\n",
    "            continue\n",
    "\n",
    "        url = a_tag.get('href')\n",
    "        title = a_tag.get_text(strip=True)\n",
    "\n",
    "        # 获取第二个 div：b_caption 下的 p 标签文本作为 snippet\n",
    "        snippet_tag = li.select_one('div.b_caption p')\n",
    "        snippet = snippet_tag.get_text(strip=True) if snippet_tag else ''\n",
    "\n",
    "        url_list.append({\n",
    "            \"url\": url,\n",
    "            \"title\": title,\n",
    "            \"snippet\": snippet\n",
    "        })\n",
    "\n",
    "    if not url_list:\n",
    "        raise Exception(f\"No results found in {first_index}\")\n",
    "\n",
    "    return url_list"
   ]
  },
  {
   "cell_type": "code",
   "execution_count": 14,
   "id": "d5bb9641",
   "metadata": {},
   "outputs": [
    {
     "name": "stderr",
     "output_type": "stream",
     "text": [
      "100%|██████████| 200/200 [04:16<00:00,  1.28s/it]"
     ]
    },
    {
     "name": "stdout",
     "output_type": "stream",
     "text": [
      "1980\n"
     ]
    },
    {
     "name": "stderr",
     "output_type": "stream",
     "text": [
      "\n"
     ]
    }
   ],
   "source": [
    "from tqdm import tqdm\n",
    "\n",
    "first_index_list = range(1, 1992, 10)\n",
    "\n",
    "total_list = []\n",
    "error_list = []\n",
    "for index in tqdm(first_index_list):\n",
    "    try:\n",
    "        total_list.extend(get_page_urls(index))\n",
    "    except Exception as e:\n",
    "        error_list.append(index)\n",
    "\n",
    "print(len(total_list))"
   ]
  },
  {
   "cell_type": "code",
   "execution_count": 15,
   "id": "4f257e11",
   "metadata": {},
   "outputs": [
    {
     "data": {
      "text/plain": [
       "[421, 451]"
      ]
     },
     "execution_count": 15,
     "metadata": {},
     "output_type": "execute_result"
    }
   ],
   "source": [
    "error_list"
   ]
  },
  {
   "cell_type": "code",
   "execution_count": 16,
   "id": "93fefc1d",
   "metadata": {},
   "outputs": [
    {
     "name": "stderr",
     "output_type": "stream",
     "text": [
      "100%|██████████| 2/2 [00:02<00:00,  1.29s/it]"
     ]
    },
    {
     "name": "stdout",
     "output_type": "stream",
     "text": [
      "2000\n"
     ]
    },
    {
     "name": "stderr",
     "output_type": "stream",
     "text": [
      "\n"
     ]
    }
   ],
   "source": [
    "new_error_list = []\n",
    "for index in tqdm(error_list):\n",
    "    try:\n",
    "        total_list.extend(get_page_urls(index))\n",
    "    except Exception as e:\n",
    "        new_error_list.append(index)\n",
    "\n",
    "print(len(total_list))"
   ]
  },
  {
   "cell_type": "code",
   "execution_count": 9,
   "id": "1cc073ad",
   "metadata": {},
   "outputs": [
    {
     "data": {
      "text/plain": [
       "1910"
      ]
     },
     "execution_count": 9,
     "metadata": {},
     "output_type": "execute_result"
    }
   ],
   "source": [
    "len(total_list)"
   ]
  },
  {
   "cell_type": "code",
   "execution_count": 17,
   "id": "38405396",
   "metadata": {},
   "outputs": [],
   "source": [
    "import json\n",
    "\n",
    "with open(\"urls(new).json\", \"w\", encoding=\"utf-8\") as f:\n",
    "    json.dump(total_list, f, ensure_ascii=False, indent=2)"
   ]
  },
  {
   "cell_type": "code",
   "execution_count": 13,
   "id": "7e992c76",
   "metadata": {},
   "outputs": [
    {
     "data": {
      "text/plain": [
       "[{'url': 'https://highschoolfootballamerica.com/high-school-football-coaching-jobs/',\n",
       "  'title': 'Coaching Jobs - High School Football America',\n",
       "  'snippet': ''},\n",
       " {'url': 'https://highschoolfootballamerica.com/2024-minnesota-high-school-football-championship-scores/',\n",
       "  'title': '2024 Minnesota high school football championship scores',\n",
       "  'snippet': '2024年11月24日\\u2002·\\u2002Jeff is an award-winning journalist and expert in the field of high school sports, underscored with his appearance on CNBC in 2010 to talk about the big business of high school football in America.Jeff turned to his passion for high school football into an entrepreneurial venture called High School Football America, a digital media company focused on producing …'},\n",
       " {'url': 'https://highschoolfootballamerica.com/pennsylvania-top-25-high-school-football-rankings-final-2024/',\n",
       "  'title': 'Pennsylvania Top 25 high school football rankings – Final 2024',\n",
       "  'snippet': '2024年12月27日\\u2002·\\u20026A champ St. Joseph’s Prep finishes No. 1 in the final 2024 High School Football America Pennsylvania Top 25 high school football rankings, powered by N FL Play Football.The Hawks have finished No. 1 in the state for the sixth time in the last seven years. Below is the entire Top 25 created with our proprietary algorithm that we’ve been using since …'},\n",
       " {'url': 'https://highschoolfootballamerica.com/2024-georgia-high-school-football-championship-scores/',\n",
       "  'title': '2024 Georgia high school football championship scores',\n",
       "  'snippet': '2024年12月19日\\u2002·\\u2002Jeff is an award-winning journalist and expert in the field of high school sports, underscored with his appearance on CNBC in 2010 to talk about the big business of high school football in America.Jeff turned to his passion for high school football into an entrepreneurial venture called High School Football America, a digital media company focused on producing …'},\n",
       " {'url': 'https://highschoolfootballamerica.com/2024-texas-high-school-football-championship-schedule/',\n",
       "  'title': '2024 Texas high school football championship schedule',\n",
       "  'snippet': '2024年12月18日\\u2002·\\u2002Jeff is an award-winning journalist and expert in the field of high school sports, underscored with his appearance on CNBC in 2010 to talk about the big business of high school football in America.Jeff turned to his passion for high school football into an entrepreneurial venture called High School Football America, a digital media company focused on producing …'},\n",
       " {'url': 'https://highschoolfootballamerica.com/2025-pennsylvania-high-school-football-schedules/',\n",
       "  'title': '2025 Pennsylvania high school football schedules',\n",
       "  'snippet': '2025年4月10日\\u2002·\\u2002Jeff is an award-winning journalist and expert in the field of high school sports, underscored with his appearance on CNBC in 2010 to talk about the big business of high school football in America.Jeff turned to his passion for high school football into an entrepreneurial venture called High School Football America, a digital media company focused on producing …'},\n",
       " {'url': 'https://highschoolfootballamerica.com/national-signing-day-2025/',\n",
       "  'title': 'National Signing Day 2025 - High School Football America',\n",
       "  'snippet': '2025年4月9日\\u2002·\\u2002With the Early Signing Period taking the shine off National Signing Day, the first February in Wednesday isn’t as special as it used to be. Only a handful of top recruits in the Class of 2025 entered today uncommitted. Denton Ryan (Texas) offensive tackle Ty Haywood was the highest-ranked uncommitted player in 247Sports Composite Rankings to commit on Wednesday.'},\n",
       " {'url': 'https://highschoolfootballamerica.com/2025-trinity-league-high-school-football-schedules/',\n",
       "  'title': '2025 Trinity League high school football schedules',\n",
       "  'snippet': '2025年3月12日\\u2002·\\u2002Jeff is an award-winning journalist and expert in the field of high school sports, underscored with his appearance on CNBC in 2010 to talk about the big business of high school football in America.Jeff turned to his passion for high school football into an entrepreneurial venture called High School Football America, a digital media company focused on producing …'},\n",
       " {'url': 'https://highschoolfootballamerica.com/under-armour-next-football-camp-series-stops-in-dallas/',\n",
       "  'title': '‘Under Armour Next’ Football Camp Series stops in Dallas',\n",
       "  'snippet': '2025年2月17日\\u2002·\\u2002Jeff is an award-winning journalist and expert in the field of high school sports, underscored with his appearance on CNBC in 2010 to talk about the big business of high school football in America.Jeff turned to his passion for high school football into an entrepreneurial venture called High School Football America, a digital media company focused on producing …'},\n",
       " {'url': 'https://highschoolfootballamerica.com/meet-trish-hoffman/',\n",
       "  'title': 'Meet Trish Hoffman - High School Football America',\n",
       "  'snippet': '3 天之前\\u2002·\\u2002Trish Hoffman is an award-winning news journalist and entrepreneur, who co-found High School Football America with Jeff Fisher in 2004.'}]"
      ]
     },
     "execution_count": 13,
     "metadata": {},
     "output_type": "execute_result"
    }
   ],
   "source": [
    "get_page_urls(21)"
   ]
  },
  {
   "cell_type": "code",
   "execution_count": null,
   "id": "014399c9",
   "metadata": {},
   "outputs": [],
   "source": []
  }
 ],
 "metadata": {
  "kernelspec": {
   "display_name": "base",
   "language": "python",
   "name": "python3"
  },
  "language_info": {
   "codemirror_mode": {
    "name": "ipython",
    "version": 3
   },
   "file_extension": ".py",
   "mimetype": "text/x-python",
   "name": "python",
   "nbconvert_exporter": "python",
   "pygments_lexer": "ipython3",
   "version": "3.10.15"
  }
 },
 "nbformat": 4,
 "nbformat_minor": 5
}
